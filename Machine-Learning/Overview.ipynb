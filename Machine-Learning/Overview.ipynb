{
 "cells": [
  {
   "cell_type": "code",
   "execution_count": 61,
   "metadata": {},
   "outputs": [],
   "source": [
    "import sympy\n",
    "import numpy"
   ]
  },
  {
   "cell_type": "code",
   "execution_count": 62,
   "metadata": {},
   "outputs": [],
   "source": [
    "x1, x2 = sympy.symbols('x1 x2')"
   ]
  },
  {
   "cell_type": "code",
   "execution_count": 63,
   "metadata": {},
   "outputs": [],
   "source": [
    "fx = x1 ** 2 + 2 * x1 * x2 + sympy.sin(x1) + 2"
   ]
  },
  {
   "cell_type": "code",
   "execution_count": 64,
   "metadata": {},
   "outputs": [],
   "source": [
    "gradient_fx_1 = [sympy.diff(fx, var) for var in (x1, x2)]"
   ]
  },
  {
   "cell_type": "code",
   "execution_count": 65,
   "metadata": {},
   "outputs": [],
   "source": [
    "gradient_fx_2 = sympy.hessian(fx, (x1, x2))"
   ]
  },
  {
   "cell_type": "code",
   "execution_count": 66,
   "metadata": {},
   "outputs": [
    {
     "name": "stdout",
     "output_type": "stream",
     "text": [
      "Đạo hàm bậc nhất của Fx: \n",
      "∂f/∂x1 = 2*x1 + 2*x2 + cos(x1)\n",
      "∂f/∂x2 = 2*x1\n"
     ]
    }
   ],
   "source": [
    "print(\"Đạo hàm bậc nhất của Fx: \")\n",
    "for i, df in enumerate(gradient_fx_1, start=1):\n",
    "    print(f\"\\u2202f/\\u2202x{i} =\", df)"
   ]
  },
  {
   "cell_type": "code",
   "execution_count": 67,
   "metadata": {},
   "outputs": [
    {
     "name": "stdout",
     "output_type": "stream",
     "text": [
      "Đạo hàm bậc hai của Fx: \n",
      "⎡2 - sin(x₁)  2⎤\n",
      "⎢              ⎥\n",
      "⎣     2       0⎦\n"
     ]
    }
   ],
   "source": [
    "print(\"Đạo hàm bậc hai của Fx: \")\n",
    "sympy.pprint(gradient_fx_2)"
   ]
  },
  {
   "cell_type": "code",
   "execution_count": 68,
   "metadata": {},
   "outputs": [],
   "source": [
    "A = sympy.Matrix([[-1, 0, 1], [1, -1, 0]])\n",
    "x = sympy.symbols('x')\n",
    "Vx = A * x"
   ]
  },
  {
   "cell_type": "code",
   "execution_count": 69,
   "metadata": {},
   "outputs": [],
   "source": [
    "gradient_Vx_1 = sympy.diff(Vx)"
   ]
  },
  {
   "cell_type": "code",
   "execution_count": 70,
   "metadata": {},
   "outputs": [
    {
     "name": "stdout",
     "output_type": "stream",
     "text": [
      "Đạo hàm bậc nhất của Vx:\n",
      "⎡-1  0   1⎤\n",
      "⎢         ⎥\n",
      "⎣1   -1  0⎦\n"
     ]
    }
   ],
   "source": [
    "print(\"Đạo hàm bậc nhất của Vx:\")\n",
    "sympy.pprint(gradient_Vx_1)"
   ]
  },
  {
   "cell_type": "code",
   "execution_count": 71,
   "metadata": {},
   "outputs": [
    {
     "name": "stdout",
     "output_type": "stream",
     "text": [
      "F(x)    :  x**2\n",
      "F'(x)   :  2*x\n",
      "G(u)    :  sin(u)\n",
      "G'(u)   :  cos(u)\n",
      "G'(F(x)):  cos(x**2)\n",
      "H(x)    :  sin(x**2)\n",
      "H'(x)   :  2*x*cos(x**2)\n"
     ]
    }
   ],
   "source": [
    "# Chain Rule\n",
    "# Đạo hàm bậc 1 : \n",
    "# Đạo hàm bậc 2 : \n",
    "\n",
    "x = sympy.symbols('x')\n",
    "u = sympy.symbols('u')\n",
    "\n",
    "# F(x) = x^2\n",
    "Fx = x ** 2\n",
    "\n",
    "# G(u) = sin(u)\n",
    "Gu = sympy.sin(u)\n",
    "\n",
    "# H(x) = G(F(x))\n",
    "Hx = sympy.sin(Fx)\n",
    "\n",
    "# Đạo hàm theo Chain Rule\n",
    "gradient_Fx = sympy.diff(Fx, x) # F'(x)\n",
    "gradient_Gu = sympy.diff(Gu, u) # G'(u), u = F(x)\n",
    "gradient_Gx = gradient_Gu.subs(u, Fx) # G'(F(x))\n",
    "gradient_Hx = gradient_Fx * gradient_Gx # H'(x) = F'(x) * G'(F(x))\n",
    "\n",
    "# Hiển thị kết quả\n",
    "print(\"F(x)    : \", Fx)\n",
    "print(\"F'(x)   : \", gradient_Fx)\n",
    "print(\"G(u)    : \", Gu)\n",
    "print(\"G'(u)   : \", gradient_Gu)\n",
    "print(\"G'(F(x)): \", gradient_Gx)\n",
    "print(\"H(x)    : \", Hx)\n",
    "print(\"H'(x)   : \", gradient_Hx)\n"
   ]
  },
  {
   "cell_type": "code",
   "execution_count": 90,
   "metadata": {},
   "outputs": [],
   "source": [
    "# Ma trận A\n",
    "A = numpy.array([[2, 3], [1, 4]])"
   ]
  },
  {
   "cell_type": "code",
   "execution_count": 91,
   "metadata": {},
   "outputs": [],
   "source": [
    "# Ma trận đảo A\n",
    "A_inv = numpy.linalg.inv(A)"
   ]
  },
  {
   "cell_type": "code",
   "execution_count": 92,
   "metadata": {},
   "outputs": [],
   "source": [
    "# Kiểm tra tính khả nghịch của ma trận A và ma trận đảo của A\n",
    "Y = numpy.int8(numpy.dot(A, A_inv))"
   ]
  },
  {
   "cell_type": "code",
   "execution_count": 153,
   "metadata": {},
   "outputs": [],
   "source": [
    "X = numpy.array([[-2, -2], [-1, 4], [2, 3]])"
   ]
  },
  {
   "cell_type": "code",
   "execution_count": 185,
   "metadata": {},
   "outputs": [
    {
     "name": "stdout",
     "output_type": "stream",
     "text": [
      "[[ 4.33333333  3.83333333]\n",
      " [ 3.83333333 10.33333333]]\n"
     ]
    },
    {
     "name": "stderr",
     "output_type": "stream",
     "text": [
      "C:\\Users\\phong.nguyen-thang\\AppData\\Local\\Temp\\ipykernel_1896\\450849849.py:14: DeprecationWarning: Conversion of an array with ndim > 0 to a scalar is deprecated, and will error in future. Ensure you extract a single element from your array before performing this operation. (Deprecated NumPy 1.25.)\n",
      "  M2[i][j] = M[i] * 1\n"
     ]
    }
   ],
   "source": [
    "# Cách tính ma trận hiệp phương sai không dùng hàm có sẵn\n",
    "K = X.T\n",
    "m = K.shape[0]\n",
    "N = K.shape[1]\n",
    "\n",
    "Mx = numpy.sum(K[0][:]) / N\n",
    "My = numpy.sum(K[1][:]) / N\n",
    "M = numpy.array([[Mx], [My]])\n",
    "\n",
    "M2 = numpy.ones((m, N))\n",
    "\n",
    "for i in range(m):\n",
    "    for j in range(N):\n",
    "        M2[i][j] = M[i] * 1\n",
    "\n",
    "D = K - M2\n",
    "\n",
    "cov1 = 1 / (N - 1) * numpy.dot(D, D.T)\n",
    "\n",
    "print(cov1)"
   ]
  },
  {
   "cell_type": "code",
   "execution_count": 186,
   "metadata": {},
   "outputs": [
    {
     "name": "stdout",
     "output_type": "stream",
     "text": [
      "[[ 4.33333333  3.83333333]\n",
      " [ 3.83333333 10.33333333]]\n"
     ]
    }
   ],
   "source": [
    "# Cách tính ma trận hiệp phương sai dùng hàm có sẵn\n",
    "cov2 = numpy.cov(X.T)\n",
    "print(cov2)"
   ]
  },
  {
   "cell_type": "code",
   "execution_count": 1,
   "metadata": {},
   "outputs": [],
   "source": [
    "import cv2"
   ]
  },
  {
   "cell_type": "code",
   "execution_count": 4,
   "metadata": {},
   "outputs": [],
   "source": [
    "img = cv2.imread('girl.jpg')"
   ]
  },
  {
   "cell_type": "code",
   "execution_count": 6,
   "metadata": {},
   "outputs": [],
   "source": [
    "rgb_img = cv2.cvtColor(img, cv2.COLOR_BGR2RGB)"
   ]
  },
  {
   "cell_type": "code",
   "execution_count": 7,
   "metadata": {},
   "outputs": [
    {
     "data": {
      "text/plain": [
       "array([[[10, 12,  9],\n",
       "        [11, 13, 10],\n",
       "        [12, 14, 11],\n",
       "        ...,\n",
       "        [14, 14, 14],\n",
       "        [15, 15, 15],\n",
       "        [12, 12, 12]],\n",
       "\n",
       "       [[10, 12,  9],\n",
       "        [11, 13, 10],\n",
       "        [12, 14, 11],\n",
       "        ...,\n",
       "        [14, 14, 14],\n",
       "        [14, 14, 14],\n",
       "        [12, 12, 12]],\n",
       "\n",
       "       [[11, 13, 10],\n",
       "        [11, 13, 10],\n",
       "        [12, 14, 11],\n",
       "        ...,\n",
       "        [14, 14, 14],\n",
       "        [14, 14, 14],\n",
       "        [12, 12, 12]],\n",
       "\n",
       "       ...,\n",
       "\n",
       "       [[24, 18, 20],\n",
       "        [23, 17, 19],\n",
       "        [22, 18, 19],\n",
       "        ...,\n",
       "        [23, 29, 19],\n",
       "        [24, 30, 18],\n",
       "        [25, 31, 19]],\n",
       "\n",
       "       [[24, 18, 20],\n",
       "        [23, 17, 19],\n",
       "        [22, 18, 19],\n",
       "        ...,\n",
       "        [23, 29, 19],\n",
       "        [24, 30, 18],\n",
       "        [25, 31, 19]],\n",
       "\n",
       "       [[23, 17, 19],\n",
       "        [25, 19, 21],\n",
       "        [25, 21, 22],\n",
       "        ...,\n",
       "        [23, 29, 19],\n",
       "        [22, 28, 16],\n",
       "        [21, 27, 15]]], dtype=uint8)"
      ]
     },
     "execution_count": 7,
     "metadata": {},
     "output_type": "execute_result"
    }
   ],
   "source": [
    "rgb_img"
   ]
  }
 ],
 "metadata": {
  "kernelspec": {
   "display_name": "py_env_3_12_8",
   "language": "python",
   "name": "python3"
  },
  "language_info": {
   "codemirror_mode": {
    "name": "ipython",
    "version": 3
   },
   "file_extension": ".py",
   "mimetype": "text/x-python",
   "name": "python",
   "nbconvert_exporter": "python",
   "pygments_lexer": "ipython3",
   "version": "3.12.8"
  }
 },
 "nbformat": 4,
 "nbformat_minor": 2
}
